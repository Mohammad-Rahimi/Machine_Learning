{
 "cells": [
  {
   "cell_type": "markdown",
   "metadata": {},
   "source": [
    "# Homework 4 Part 2 - Solutions"
   ]
  },
  {
   "cell_type": "markdown",
   "metadata": {},
   "source": [
    "**This is an individual assignment.**"
   ]
  },
  {
   "cell_type": "markdown",
   "metadata": {},
   "source": [
    "---"
   ]
  },
  {
   "cell_type": "markdown",
   "metadata": {},
   "source": [
    "Write your own code and justify all your answers. You may repurpose any functions built during lecture. You may use ```scikit-learn``` functions."
   ]
  },
  {
   "cell_type": "markdown",
   "metadata": {},
   "source": [
    "---"
   ]
  },
  {
   "cell_type": "code",
   "execution_count": 1,
   "metadata": {
    "tags": []
   },
   "outputs": [],
   "source": [
    "# Import libraries and magics\n",
    "\n",
    "import numpy as np\n",
    "import matplotlib.pyplot as plt\n",
    "%matplotlib inline\n",
    "plt.style.use('bmh')\n",
    "\n",
    "from sklearn.preprocessing import MinMaxScaler, StandardScaler\n",
    "from sklearn.decomposition import PCA\n",
    "from sklearn.pipeline import Pipeline\n",
    "from sklearn.linear_model import LogisticRegression\n",
    "from sklearn.metrics import classification_report, accuracy_score, confusion_matrix\n",
    "from scipy import stats\n",
    "from sklearn.model_selection import cross_val_score, KFold, GridSearchCV, train_test_split\n",
    "from sklearn.feature_selection import RFE\n",
    "from sklearn.manifold import MDS, Isomap, LocallyLinearEmbedding as LLE, TSNE\n",
    "from sklearn.svm import SVC\n",
    "\n",
    "from time import time\n",
    "from warnings import filterwarnings\n",
    "\n",
    "import tensorflow.keras as keras"
   ]
  },
  {
   "cell_type": "markdown",
   "metadata": {},
   "source": [
    "---"
   ]
  },
  {
   "cell_type": "markdown",
   "metadata": {},
   "source": [
    "# Exercise 1 (15 points)"
   ]
  },
  {
   "cell_type": "markdown",
   "metadata": {},
   "source": [
    "**In this problem, you will be working with the [MNIST Data Set](http://yann.lecun.com/exdb/mnist/) to extract features, perform classification using the SVM algorithm and evaluate your results using metrics such as accuracy, ROC curve and confusion matrices.**\n",
    "\n",
    "**The MNIST data set contains $28\\times 28$ images of handwritten digits (class labels 0, 1, 2, 3, 4, 5, 6, 7, 8 and 9). This data set has 60,000 images for training and 10,000 images for testing. Each image is a 8-bit grayscale image and so the intensity values per pixel range from 0-255.**\n",
    "\n",
    "**The following code cell loads the MNIST data set and displays some examples. (The data is already available in your repository as \"mnist_train.csv\" and \"mnist_test.csv\".)**"
   ]
  },
  {
   "cell_type": "code",
   "execution_count": 2,
   "metadata": {},
   "outputs": [
    {
     "data": {
      "text/plain": [
       "((60000, 784), (60000,), (10000, 784), (10000,))"
      ]
     },
     "execution_count": 2,
     "metadata": {},
     "output_type": "execute_result"
    }
   ],
   "source": [
    "# Loading MNIST data set\n",
    "image_size = 28 # width and length\n",
    "no_of_different_labels = 10 #  i.e. 0, 1, 2, 3, ..., 9\n",
    "image_pixels = image_size * image_size\n",
    "\n",
    "# Loading Training Samples\n",
    "train_data = np.loadtxt(\"mnist_train.csv\", delimiter=\",\")\n",
    "X_train = train_data[:,1:]\n",
    "t_train = train_data[:,0]\n",
    "\n",
    "# Loading Test Samples\n",
    "test_data = np.loadtxt(\"mnist_test.csv\", delimiter=\",\") \n",
    "X_test = test_data[:,1:]\n",
    "t_test = test_data[:,0]\n",
    "\n",
    "X_train.shape, t_train.shape, X_test.shape, t_test.shape"
   ]
  },
  {
   "cell_type": "code",
   "execution_count": 3,
   "metadata": {},
   "outputs": [
    {
     "data": {
      "image/png": "[encoded data removed]",
      "text/plain": [
       "<Figure size 1500x500 with 10 Axes>"
      ]
     },
     "metadata": {},
     "output_type": "display_data"
    }
   ],
   "source": [
    "plt.figure(figsize=(15,5))\n",
    "for i in range(10):\n",
    "    plt.subplot(1,10,i+1)\n",
    "    plt.imshow(X_train[np.where(t_train==i)[0][1],:].reshape((28,28)), cmap='gray')\n",
    "    plt.title('Digit '+str(i)); plt.axis('off');"
   ]
  },
  {
   "cell_type": "markdown",
   "metadata": {},
   "source": [
    "**Using this dataset, answer the following questions:**\n",
    "\n",
    "1. **Create a PCA object using ```scikit-learn``` functions and plot the cumulative explained variance ratio. How many principal components (PCs) would you have to extract in order to preserve 90% of the explained variance in the data?**\n",
    "    * **Be sure to apply any necessary preprocessing.**"
   ]
  },
  {
   "cell_type": "code",
   "execution_count": 4,
   "metadata": {},
   "outputs": [
    {
     "data": {
      "text/html": [
       "<style>#sk-container-id-1 {color: black;background-color: white;}#sk-container-id-1 pre{padding: 0;}#sk-container-id-1 div.sk-toggleable {background-color: white;}#sk-container-id-1 label.sk-toggleable__label {cursor: pointer;display: block;width: 100%;margin-bottom: 0;padding: 0.3em;box-sizing: border-box;text-align: center;}#sk-container-id-1 label.sk-toggleable__label-arrow:before {content: \"▸\";float: left;margin-right: 0.25em;color: #696969;}#sk-container-id-1 label.sk-toggleable__label-arrow:hover:before {color: black;}#sk-container-id-1 div.sk-estimator:hover label.sk-toggleable__label-arrow:before {color: black;}#sk-container-id-1 div.sk-toggleable__content {max-height: 0;max-width: 0;overflow: hidden;text-align: left;background-color: #f0f8ff;}#sk-container-id-1 div.sk-toggleable__content pre {margin: 0.2em;color: black;border-radius: 0.25em;background-color: #f0f8ff;}#sk-container-id-1 input.sk-toggleable__control:checked~div.sk-toggleable__content {max-height: 200px;max-width: 100%;overflow: auto;}#sk-container-id-1 input.sk-toggleable__control:checked~label.sk-toggleable__label-arrow:before {content: \"▾\";}#sk-container-id-1 div.sk-estimator input.sk-toggleable__control:checked~label.sk-toggleable__label {background-color: #d4ebff;}#sk-container-id-1 div.sk-label input.sk-toggleable__control:checked~label.sk-toggleable__label {background-color: #d4ebff;}#sk-container-id-1 input.sk-hidden--visually {border: 0;clip: rect(1px 1px 1px 1px);clip: rect(1px, 1px, 1px, 1px);height: 1px;margin: -1px;overflow: hidden;padding: 0;position: absolute;width: 1px;}#sk-container-id-1 div.sk-estimator {font-family: monospace;background-color: #f0f8ff;border: 1px dotted black;border-radius: 0.25em;box-sizing: border-box;margin-bottom: 0.5em;}#sk-container-id-1 div.sk-estimator:hover {background-color: #d4ebff;}#sk-container-id-1 div.sk-parallel-item::after {content: \"\";width: 100%;border-bottom: 1px solid gray;flex-grow: 1;}#sk-container-id-1 div.sk-label:hover label.sk-toggleable__label {background-color: #d4ebff;}#sk-container-id-1 div.sk-serial::before {content: \"\";position: absolute;border-left: 1px solid gray;box-sizing: border-box;top: 0;bottom: 0;left: 50%;z-index: 0;}#sk-container-id-1 div.sk-serial {display: flex;flex-direction: column;align-items: center;background-color: white;padding-right: 0.2em;padding-left: 0.2em;position: relative;}#sk-container-id-1 div.sk-item {position: relative;z-index: 1;}#sk-container-id-1 div.sk-parallel {display: flex;align-items: stretch;justify-content: center;background-color: white;position: relative;}#sk-container-id-1 div.sk-item::before, #sk-container-id-1 div.sk-parallel-item::before {content: \"\";position: absolute;border-left: 1px solid gray;box-sizing: border-box;top: 0;bottom: 0;left: 50%;z-index: -1;}#sk-container-id-1 div.sk-parallel-item {display: flex;flex-direction: column;z-index: 1;position: relative;background-color: white;}#sk-container-id-1 div.sk-parallel-item:first-child::after {align-self: flex-end;width: 50%;}#sk-container-id-1 div.sk-parallel-item:last-child::after {align-self: flex-start;width: 50%;}#sk-container-id-1 div.sk-parallel-item:only-child::after {width: 0;}#sk-container-id-1 div.sk-dashed-wrapped {border: 1px dashed gray;margin: 0 0.4em 0.5em 0.4em;box-sizing: border-box;padding-bottom: 0.4em;background-color: white;}#sk-container-id-1 div.sk-label label {font-family: monospace;font-weight: bold;display: inline-block;line-height: 1.2em;}#sk-container-id-1 div.sk-label-container {text-align: center;}#sk-container-id-1 div.sk-container {/* jupyter's `normalize.less` sets `[hidden] { display: none; }` but bootstrap.min.css set `[hidden] { display: none !important; }` so we also need the `!important` here to be able to override the default hidden behavior on the sphinx rendered scikit-learn.org. See: https://github.com/scikit-learn/scikit-learn/issues/21755 */display: inline-block !important;position: relative;}#sk-container-id-1 div.sk-text-repr-fallback {display: none;}</style><div id=\"sk-container-id-1\" class=\"sk-top-container\"><div class=\"sk-text-repr-fallback\"><pre>Pipeline(steps=[(&#x27;scaler&#x27;, MinMaxScaler()), (&#x27;PCA&#x27;, PCA())])</pre><b>In a Jupyter environment, please rerun this cell to show the HTML representation or trust the notebook. <br />On GitHub, the HTML representation is unable to render, please try loading this page with nbviewer.org.</b></div><div class=\"sk-container\" hidden><div class=\"sk-item sk-dashed-wrapped\"><div class=\"sk-label-container\"><div class=\"sk-label sk-toggleable\"><input class=\"sk-toggleable__control sk-hidden--visually\" id=\"sk-estimator-id-1\" type=\"checkbox\" ><label for=\"sk-estimator-id-1\" class=\"sk-toggleable__label sk-toggleable__label-arrow\">Pipeline</label><div class=\"sk-toggleable__content\"><pre>Pipeline(steps=[(&#x27;scaler&#x27;, MinMaxScaler()), (&#x27;PCA&#x27;, PCA())])</pre></div></div></div><div class=\"sk-serial\"><div class=\"sk-item\"><div class=\"sk-estimator sk-toggleable\"><input class=\"sk-toggleable__control sk-hidden--visually\" id=\"sk-estimator-id-2\" type=\"checkbox\" ><label for=\"sk-estimator-id-2\" class=\"sk-toggleable__label sk-toggleable__label-arrow\">MinMaxScaler</label><div class=\"sk-toggleable__content\"><pre>MinMaxScaler()</pre></div></div></div><div class=\"sk-item\"><div class=\"sk-estimator sk-toggleable\"><input class=\"sk-toggleable__control sk-hidden--visually\" id=\"sk-estimator-id-3\" type=\"checkbox\" ><label for=\"sk-estimator-id-3\" class=\"sk-toggleable__label sk-toggleable__label-arrow\">PCA</label><div class=\"sk-toggleable__content\"><pre>PCA()</pre></div></div></div></div></div></div></div>"
      ],
      "text/plain": [
       "Pipeline(steps=[('scaler', MinMaxScaler()), ('PCA', PCA())])"
      ]
     },
     "execution_count": 4,
     "metadata": {},
     "output_type": "execute_result"
    }
   ],
   "source": [
    "# Problem 1\n",
    "\n",
    "pipe = Pipeline([('scaler', MinMaxScaler()), \n",
    "                 ('PCA', PCA())])\n",
    "\n",
    "pipe.fit(X_train)"
   ]
  },
  {
   "cell_type": "code",
   "execution_count": 5,
   "metadata": {},
   "outputs": [
    {
     "data": {
      "image/png": "[encoded data removed]",
      "text/plain": [
       "<Figure size 1000x500 with 1 Axes>"
      ]
     },
     "metadata": {},
     "output_type": "display_data"
    }
   ],
   "source": [
    "# Cumulative Explained Variance\n",
    "\n",
    "plt.figure(figsize=(10,5))\n",
    "plt.plot(range(784), 100*np.cumsum(pipe.named_steps['PCA'].explained_variance_ratio_),'-o')\n",
    "plt.xlabel('Principal Components (PCs)',size=15)\n",
    "plt.ylabel('Cumulative Explained Variance, %', size=15);"
   ]
  },
  {
   "cell_type": "code",
   "execution_count": 6,
   "metadata": {},
   "outputs": [
    {
     "name": "stdout",
     "output_type": "stream",
     "text": [
      "We need  87  in order to explain  90.00718580239364 % of the variance in the data\n"
     ]
    }
   ],
   "source": [
    "num_pcs = np.where(np.cumsum(pipe.named_steps['PCA'].explained_variance_ratio_)>=0.9)[0][0]\n",
    "\n",
    "print('We need ',num_pcs+1, \n",
    "      ' in order to explain ',100*np.cumsum(pipe.named_steps['PCA'].explained_variance_ratio_)[num_pcs],\n",
    "     '% of the variance in the data')"
   ]
  },
  {
   "cell_type": "markdown",
   "metadata": {},
   "source": [
    "2. **Plot the first 9 principal components you found in (3) with the training data. Based on this data, what is each principal component representing?**"
   ]
  },
  {
   "cell_type": "code",
   "execution_count": 7,
   "metadata": {},
   "outputs": [
    {
     "data": {
      "image/png": "[encoded data removed]",
      "text/plain": [
       "<Figure size 2000x500 with 9 Axes>"
      ]
     },
     "metadata": {},
     "output_type": "display_data"
    }
   ],
   "source": [
    "# Problem 2 - Visualizing top 9 eigenvectors\n",
    "\n",
    "plt.figure(figsize=(20,5))\n",
    "for i in range(9):\n",
    "    plt.subplot(1,10,i+1)\n",
    "    plt.imshow(pipe.named_steps['PCA'].components_[i,:].reshape(28,28), cmap='gray')\n",
    "    plt.title('PC'+str(i+1)); plt.axis('off');"
   ]
  },
  {
   "cell_type": "markdown",
   "metadata": {},
   "source": [
    "3. **Reconstruct test images using the number of PCs you found in (1). Display examples.**"
   ]
  },
  {
   "cell_type": "code",
   "execution_count": 8,
   "metadata": {},
   "outputs": [
    {
     "data": {
      "text/html": [
       "<style>#sk-container-id-2 {color: black;background-color: white;}#sk-container-id-2 pre{padding: 0;}#sk-container-id-2 div.sk-toggleable {background-color: white;}#sk-container-id-2 label.sk-toggleable__label {cursor: pointer;display: block;width: 100%;margin-bottom: 0;padding: 0.3em;box-sizing: border-box;text-align: center;}#sk-container-id-2 label.sk-toggleable__label-arrow:before {content: \"▸\";float: left;margin-right: 0.25em;color: #696969;}#sk-container-id-2 label.sk-toggleable__label-arrow:hover:before {color: black;}#sk-container-id-2 div.sk-estimator:hover label.sk-toggleable__label-arrow:before {color: black;}#sk-container-id-2 div.sk-toggleable__content {max-height: 0;max-width: 0;overflow: hidden;text-align: left;background-color: #f0f8ff;}#sk-container-id-2 div.sk-toggleable__content pre {margin: 0.2em;color: black;border-radius: 0.25em;background-color: #f0f8ff;}#sk-container-id-2 input.sk-toggleable__control:checked~div.sk-toggleable__content {max-height: 200px;max-width: 100%;overflow: auto;}#sk-container-id-2 input.sk-toggleable__control:checked~label.sk-toggleable__label-arrow:before {content: \"▾\";}#sk-container-id-2 div.sk-estimator input.sk-toggleable__control:checked~label.sk-toggleable__label {background-color: #d4ebff;}#sk-container-id-2 div.sk-label input.sk-toggleable__control:checked~label.sk-toggleable__label {background-color: #d4ebff;}#sk-container-id-2 input.sk-hidden--visually {border: 0;clip: rect(1px 1px 1px 1px);clip: rect(1px, 1px, 1px, 1px);height: 1px;margin: -1px;overflow: hidden;padding: 0;position: absolute;width: 1px;}#sk-container-id-2 div.sk-estimator {font-family: monospace;background-color: #f0f8ff;border: 1px dotted black;border-radius: 0.25em;box-sizing: border-box;margin-bottom: 0.5em;}#sk-container-id-2 div.sk-estimator:hover {background-color: #d4ebff;}#sk-container-id-2 div.sk-parallel-item::after {content: \"\";width: 100%;border-bottom: 1px solid gray;flex-grow: 1;}#sk-container-id-2 div.sk-label:hover label.sk-toggleable__label {background-color: #d4ebff;}#sk-container-id-2 div.sk-serial::before {content: \"\";position: absolute;border-left: 1px solid gray;box-sizing: border-box;top: 0;bottom: 0;left: 50%;z-index: 0;}#sk-container-id-2 div.sk-serial {display: flex;flex-direction: column;align-items: center;background-color: white;padding-right: 0.2em;padding-left: 0.2em;position: relative;}#sk-container-id-2 div.sk-item {position: relative;z-index: 1;}#sk-container-id-2 div.sk-parallel {display: flex;align-items: stretch;justify-content: center;background-color: white;position: relative;}#sk-container-id-2 div.sk-item::before, #sk-container-id-2 div.sk-parallel-item::before {content: \"\";position: absolute;border-left: 1px solid gray;box-sizing: border-box;top: 0;bottom: 0;left: 50%;z-index: -1;}#sk-container-id-2 div.sk-parallel-item {display: flex;flex-direction: column;z-index: 1;position: relative;background-color: white;}#sk-container-id-2 div.sk-parallel-item:first-child::after {align-self: flex-end;width: 50%;}#sk-container-id-2 div.sk-parallel-item:last-child::after {align-self: flex-start;width: 50%;}#sk-container-id-2 div.sk-parallel-item:only-child::after {width: 0;}#sk-container-id-2 div.sk-dashed-wrapped {border: 1px dashed gray;margin: 0 0.4em 0.5em 0.4em;box-sizing: border-box;padding-bottom: 0.4em;background-color: white;}#sk-container-id-2 div.sk-label label {font-family: monospace;font-weight: bold;display: inline-block;line-height: 1.2em;}#sk-container-id-2 div.sk-label-container {text-align: center;}#sk-container-id-2 div.sk-container {/* jupyter's `normalize.less` sets `[hidden] { display: none; }` but bootstrap.min.css set `[hidden] { display: none !important; }` so we also need the `!important` here to be able to override the default hidden behavior on the sphinx rendered scikit-learn.org. See: https://github.com/scikit-learn/scikit-learn/issues/21755 */display: inline-block !important;position: relative;}#sk-container-id-2 div.sk-text-repr-fallback {display: none;}</style><div id=\"sk-container-id-2\" class=\"sk-top-container\"><div class=\"sk-text-repr-fallback\"><pre>Pipeline(steps=[(&#x27;scaler&#x27;, MinMaxScaler()), (&#x27;PCA&#x27;, PCA(n_components=87))])</pre><b>In a Jupyter environment, please rerun this cell to show the HTML representation or trust the notebook. <br />On GitHub, the HTML representation is unable to render, please try loading this page with nbviewer.org.</b></div><div class=\"sk-container\" hidden><div class=\"sk-item sk-dashed-wrapped\"><div class=\"sk-label-container\"><div class=\"sk-label sk-toggleable\"><input class=\"sk-toggleable__control sk-hidden--visually\" id=\"sk-estimator-id-4\" type=\"checkbox\" ><label for=\"sk-estimator-id-4\" class=\"sk-toggleable__label sk-toggleable__label-arrow\">Pipeline</label><div class=\"sk-toggleable__content\"><pre>Pipeline(steps=[(&#x27;scaler&#x27;, MinMaxScaler()), (&#x27;PCA&#x27;, PCA(n_components=87))])</pre></div></div></div><div class=\"sk-serial\"><div class=\"sk-item\"><div class=\"sk-estimator sk-toggleable\"><input class=\"sk-toggleable__control sk-hidden--visually\" id=\"sk-estimator-id-5\" type=\"checkbox\" ><label for=\"sk-estimator-id-5\" class=\"sk-toggleable__label sk-toggleable__label-arrow\">MinMaxScaler</label><div class=\"sk-toggleable__content\"><pre>MinMaxScaler()</pre></div></div></div><div class=\"sk-item\"><div class=\"sk-estimator sk-toggleable\"><input class=\"sk-toggleable__control sk-hidden--visually\" id=\"sk-estimator-id-6\" type=\"checkbox\" ><label for=\"sk-estimator-id-6\" class=\"sk-toggleable__label sk-toggleable__label-arrow\">PCA</label><div class=\"sk-toggleable__content\"><pre>PCA(n_components=87)</pre></div></div></div></div></div></div></div>"
      ],
      "text/plain": [
       "Pipeline(steps=[('scaler', MinMaxScaler()), ('PCA', PCA(n_components=87))])"
      ]
     },
     "execution_count": 8,
     "metadata": {},
     "output_type": "execute_result"
    }
   ],
   "source": [
    "# Redefining the pipeline\n",
    "\n",
    "pipe = Pipeline([('scaler', MinMaxScaler()), \n",
    "                 ('PCA', PCA(n_components=87))])\n",
    "\n",
    "pipe.fit(X_train)"
   ]
  },
  {
   "cell_type": "code",
   "execution_count": 9,
   "metadata": {},
   "outputs": [
    {
     "data": {
      "text/plain": [
       "(10000, 87)"
      ]
     },
     "execution_count": 9,
     "metadata": {},
     "output_type": "execute_result"
    }
   ],
   "source": [
    "# Finding PCA features for test set\n",
    "X_test_pca = pipe.transform(X_test)\n",
    "\n",
    "X_test_pca.shape"
   ]
  },
  {
   "cell_type": "code",
   "execution_count": 10,
   "metadata": {},
   "outputs": [
    {
     "data": {
      "text/plain": [
       "(87, 784)"
      ]
     },
     "execution_count": 10,
     "metadata": {},
     "output_type": "execute_result"
    }
   ],
   "source": [
    "# matrix containing the eigenvectors/PC directions\n",
    "A = pipe.named_steps['PCA'].components_ \n",
    "\n",
    "A.shape"
   ]
  },
  {
   "cell_type": "markdown",
   "metadata": {},
   "source": [
    "The transformation is given as:\n",
    "\n",
    "$$\\mathbf{Y} = \\mathbf{A}\\mathbf{X}$$\n",
    "\n",
    "where $\\mathbf{A}$ is the matrix containing the eigenvectors (PC directions) in its rows.\n",
    "\n",
    "Thus, we we want to recover $\\mathbf{X}$, we multiply by the **pseudo-inverse** of the matrix $\\mathbf{A}$ on both sides of the equation.\n",
    "\n",
    "$$\\tilde{\\mathbf{X}} = \\mathbf{A}^{\\dagger}\\mathbf{Y}$$"
   ]
  },
  {
   "cell_type": "code",
   "execution_count": 11,
   "metadata": {},
   "outputs": [
    {
     "data": {
      "text/plain": [
       "(10000, 784)"
      ]
     },
     "execution_count": 11,
     "metadata": {},
     "output_type": "execute_result"
    }
   ],
   "source": [
    "# Reconstructing test image with the top 'num_pcs' eigenvectors found during training\n",
    "\n",
    "X_test_reconstructed =  pipe.inverse_transform(X_test_pca)\n",
    "\n",
    "X_test_reconstructed.shape"
   ]
  },
  {
   "cell_type": "code",
   "execution_count": 12,
   "metadata": {},
   "outputs": [
    {
     "data": {
      "image/png": "[encoded data removed]",
      "text/plain": [
       "<Figure size 2000x500 with 18 Axes>"
      ]
     },
     "metadata": {},
     "output_type": "display_data"
    }
   ],
   "source": [
    "N = 9\n",
    "idx = np.random.choice(range(X_test.shape[0]),replace=False,size=N)\n",
    "plt.figure(figsize=(20,5))\n",
    "grid_loc=1\n",
    "for i in range(N):\n",
    "    plt.subplot(2,N,grid_loc)\n",
    "    plt.imshow(X_test[idx[i],:].reshape(28,28), cmap='gray')\n",
    "    plt.axis('off')\n",
    "    plt.title('Original');\n",
    "\n",
    "    plt.subplot(2,N,grid_loc+N)\n",
    "    plt.imshow(X_test_reconstructed[idx[i],:].reshape(28,28), cmap='gray')\n",
    "    plt.axis('off')\n",
    "    plt.title('Reconstructed');\n",
    "    grid_loc+=1"
   ]
  },
  {
   "cell_type": "markdown",
   "metadata": {},
   "source": [
    "4. **Train the following ```scikit-learn``` pipelines:**\n",
    "\n",
    "    1. **Pipeline 1 - scales data, reduces dimensions with PCA and train an SVM with RBF kernel.**\n",
    "    \n",
    "    2. **Pipeline 2 - scales data, and train an SVM with RBF kernel.**"
   ]
  },
  {
   "cell_type": "code",
   "execution_count": 13,
   "metadata": {},
   "outputs": [
    {
     "name": "stdout",
     "output_type": "stream",
     "text": [
      "Training Time: 7 sec\n",
      "Training Time: 11 sec\n"
     ]
    }
   ],
   "source": [
    "# Problem 4\n",
    "filterwarnings('ignore')\n",
    "\n",
    "# Pipeline with PCA\n",
    "t0 = time()\n",
    "pipe1 = Pipeline([('scaler', MinMaxScaler()), \n",
    "                 ('PCA', PCA(n_components=87)),\n",
    "                 ('LR', LogisticRegression(multi_class='multinomial',penalty='none'))])\n",
    "pipe1.fit(X_train, t_train)\n",
    "t1 = time()\n",
    "print(\"Training Time: %.2g sec\" % (t1 - t0))\n",
    "y_train_pipe1 = pipe1.predict(X_train)\n",
    "y_test_pipe1 = pipe1.predict(X_test)\n",
    "\n",
    "\n",
    "# Pipeline without PCA\n",
    "t0 = time()\n",
    "pipe2 = Pipeline([('scaler', MinMaxScaler()),\n",
    "                 ('LR', LogisticRegression(multi_class='multinomial',penalty='none'))])\n",
    "pipe2.fit(X_train, t_train)\n",
    "t1 = time()\n",
    "print(\"Training Time: %.2g sec\" % (t1 - t0))\n",
    "y_train_pipe2 = pipe2.predict(X_train)\n",
    "y_test_pipe2 = pipe2.predict(X_test)"
   ]
  },
  {
   "cell_type": "markdown",
   "metadata": {},
   "source": [
    "As we see, pipeline 1 (with dimensionality reduction) is the fastest to implement. So reducing dimensions is helping in computational time during training."
   ]
  },
  {
   "cell_type": "code",
   "execution_count": 14,
   "metadata": {},
   "outputs": [
    {
     "name": "stderr",
     "output_type": "stream",
     "text": [
      "/Users/catiaspsilva/miniconda3/envs/fml/lib/python3.10/site-packages/sklearn/linear_model/_logistic.py:444: ConvergenceWarning: lbfgs failed to converge (status=1):\n",
      "STOP: TOTAL NO. of ITERATIONS REACHED LIMIT.\n",
      "\n",
      "Increase the number of iterations (max_iter) or scale the data as shown in:\n",
      "    https://scikit-learn.org/stable/modules/preprocessing.html\n",
      "Please also refer to the documentation for alternative solver options:\n",
      "    https://scikit-learn.org/stable/modules/linear_model.html#logistic-regression\n",
      "  n_iter_i = _check_optimize_result(\n",
      "/Users/catiaspsilva/miniconda3/envs/fml/lib/python3.10/site-packages/sklearn/linear_model/_logistic.py:444: ConvergenceWarning: lbfgs failed to converge (status=1):\n",
      "STOP: TOTAL NO. of ITERATIONS REACHED LIMIT.\n",
      "\n",
      "Increase the number of iterations (max_iter) or scale the data as shown in:\n",
      "    https://scikit-learn.org/stable/modules/preprocessing.html\n",
      "Please also refer to the documentation for alternative solver options:\n",
      "    https://scikit-learn.org/stable/modules/linear_model.html#logistic-regression\n",
      "  n_iter_i = _check_optimize_result(\n",
      "/Users/catiaspsilva/miniconda3/envs/fml/lib/python3.10/site-packages/sklearn/linear_model/_logistic.py:444: ConvergenceWarning: lbfgs failed to converge (status=1):\n",
      "STOP: TOTAL NO. of ITERATIONS REACHED LIMIT.\n",
      "\n",
      "Increase the number of iterations (max_iter) or scale the data as shown in:\n",
      "    https://scikit-learn.org/stable/modules/preprocessing.html\n",
      "Please also refer to the documentation for alternative solver options:\n",
      "    https://scikit-learn.org/stable/modules/linear_model.html#logistic-regression\n",
      "  n_iter_i = _check_optimize_result(\n",
      "/Users/catiaspsilva/miniconda3/envs/fml/lib/python3.10/site-packages/sklearn/linear_model/_logistic.py:444: ConvergenceWarning: lbfgs failed to converge (status=1):\n",
      "STOP: TOTAL NO. of ITERATIONS REACHED LIMIT.\n",
      "\n",
      "Increase the number of iterations (max_iter) or scale the data as shown in:\n",
      "    https://scikit-learn.org/stable/modules/preprocessing.html\n",
      "Please also refer to the documentation for alternative solver options:\n",
      "    https://scikit-learn.org/stable/modules/linear_model.html#logistic-regression\n",
      "  n_iter_i = _check_optimize_result(\n",
      "/Users/catiaspsilva/miniconda3/envs/fml/lib/python3.10/site-packages/sklearn/linear_model/_logistic.py:444: ConvergenceWarning: lbfgs failed to converge (status=1):\n",
      "STOP: TOTAL NO. of ITERATIONS REACHED LIMIT.\n",
      "\n",
      "Increase the number of iterations (max_iter) or scale the data as shown in:\n",
      "    https://scikit-learn.org/stable/modules/preprocessing.html\n",
      "Please also refer to the documentation for alternative solver options:\n",
      "    https://scikit-learn.org/stable/modules/linear_model.html#logistic-regression\n",
      "  n_iter_i = _check_optimize_result(\n",
      "/Users/catiaspsilva/miniconda3/envs/fml/lib/python3.10/site-packages/sklearn/linear_model/_logistic.py:444: ConvergenceWarning: lbfgs failed to converge (status=1):\n",
      "STOP: TOTAL NO. of ITERATIONS REACHED LIMIT.\n",
      "\n",
      "Increase the number of iterations (max_iter) or scale the data as shown in:\n",
      "    https://scikit-learn.org/stable/modules/preprocessing.html\n",
      "Please also refer to the documentation for alternative solver options:\n",
      "    https://scikit-learn.org/stable/modules/linear_model.html#logistic-regression\n",
      "  n_iter_i = _check_optimize_result(\n",
      "/Users/catiaspsilva/miniconda3/envs/fml/lib/python3.10/site-packages/sklearn/linear_model/_logistic.py:444: ConvergenceWarning: lbfgs failed to converge (status=1):\n",
      "STOP: TOTAL NO. of ITERATIONS REACHED LIMIT.\n",
      "\n",
      "Increase the number of iterations (max_iter) or scale the data as shown in:\n",
      "    https://scikit-learn.org/stable/modules/preprocessing.html\n",
      "Please also refer to the documentation for alternative solver options:\n",
      "    https://scikit-learn.org/stable/modules/linear_model.html#logistic-regression\n",
      "  n_iter_i = _check_optimize_result(\n",
      "/Users/catiaspsilva/miniconda3/envs/fml/lib/python3.10/site-packages/sklearn/linear_model/_logistic.py:444: ConvergenceWarning: lbfgs failed to converge (status=1):\n",
      "STOP: TOTAL NO. of ITERATIONS REACHED LIMIT.\n",
      "\n",
      "Increase the number of iterations (max_iter) or scale the data as shown in:\n",
      "    https://scikit-learn.org/stable/modules/preprocessing.html\n",
      "Please also refer to the documentation for alternative solver options:\n",
      "    https://scikit-learn.org/stable/modules/linear_model.html#logistic-regression\n",
      "  n_iter_i = _check_optimize_result(\n",
      "/Users/catiaspsilva/miniconda3/envs/fml/lib/python3.10/site-packages/sklearn/linear_model/_logistic.py:444: ConvergenceWarning: lbfgs failed to converge (status=1):\n",
      "STOP: TOTAL NO. of ITERATIONS REACHED LIMIT.\n",
      "\n",
      "Increase the number of iterations (max_iter) or scale the data as shown in:\n",
      "    https://scikit-learn.org/stable/modules/preprocessing.html\n",
      "Please also refer to the documentation for alternative solver options:\n",
      "    https://scikit-learn.org/stable/modules/linear_model.html#logistic-regression\n",
      "  n_iter_i = _check_optimize_result(\n",
      "/Users/catiaspsilva/miniconda3/envs/fml/lib/python3.10/site-packages/sklearn/linear_model/_logistic.py:444: ConvergenceWarning: lbfgs failed to converge (status=1):\n",
      "STOP: TOTAL NO. of ITERATIONS REACHED LIMIT.\n",
      "\n",
      "Increase the number of iterations (max_iter) or scale the data as shown in:\n",
      "    https://scikit-learn.org/stable/modules/preprocessing.html\n",
      "Please also refer to the documentation for alternative solver options:\n",
      "    https://scikit-learn.org/stable/modules/linear_model.html#logistic-regression\n",
      "  n_iter_i = _check_optimize_result(\n",
      "/Users/catiaspsilva/miniconda3/envs/fml/lib/python3.10/site-packages/sklearn/linear_model/_logistic.py:444: ConvergenceWarning: lbfgs failed to converge (status=1):\n",
      "STOP: TOTAL NO. of ITERATIONS REACHED LIMIT.\n",
      "\n",
      "Increase the number of iterations (max_iter) or scale the data as shown in:\n",
      "    https://scikit-learn.org/stable/modules/preprocessing.html\n",
      "Please also refer to the documentation for alternative solver options:\n",
      "    https://scikit-learn.org/stable/modules/linear_model.html#logistic-regression\n",
      "  n_iter_i = _check_optimize_result(\n",
      "/Users/catiaspsilva/miniconda3/envs/fml/lib/python3.10/site-packages/sklearn/linear_model/_logistic.py:444: ConvergenceWarning: lbfgs failed to converge (status=1):\n",
      "STOP: TOTAL NO. of ITERATIONS REACHED LIMIT.\n",
      "\n",
      "Increase the number of iterations (max_iter) or scale the data as shown in:\n",
      "    https://scikit-learn.org/stable/modules/preprocessing.html\n",
      "Please also refer to the documentation for alternative solver options:\n",
      "    https://scikit-learn.org/stable/modules/linear_model.html#logistic-regression\n",
      "  n_iter_i = _check_optimize_result(\n",
      "/Users/catiaspsilva/miniconda3/envs/fml/lib/python3.10/site-packages/sklearn/linear_model/_logistic.py:444: ConvergenceWarning: lbfgs failed to converge (status=1):\n",
      "STOP: TOTAL NO. of ITERATIONS REACHED LIMIT.\n",
      "\n",
      "Increase the number of iterations (max_iter) or scale the data as shown in:\n",
      "    https://scikit-learn.org/stable/modules/preprocessing.html\n",
      "Please also refer to the documentation for alternative solver options:\n",
      "    https://scikit-learn.org/stable/modules/linear_model.html#logistic-regression\n",
      "  n_iter_i = _check_optimize_result(\n",
      "/Users/catiaspsilva/miniconda3/envs/fml/lib/python3.10/site-packages/sklearn/linear_model/_logistic.py:444: ConvergenceWarning: lbfgs failed to converge (status=1):\n",
      "STOP: TOTAL NO. of ITERATIONS REACHED LIMIT.\n",
      "\n",
      "Increase the number of iterations (max_iter) or scale the data as shown in:\n",
      "    https://scikit-learn.org/stable/modules/preprocessing.html\n",
      "Please also refer to the documentation for alternative solver options:\n",
      "    https://scikit-learn.org/stable/modules/linear_model.html#logistic-regression\n",
      "  n_iter_i = _check_optimize_result(\n",
      "/Users/catiaspsilva/miniconda3/envs/fml/lib/python3.10/site-packages/sklearn/linear_model/_logistic.py:444: ConvergenceWarning: lbfgs failed to converge (status=1):\n",
      "STOP: TOTAL NO. of ITERATIONS REACHED LIMIT.\n",
      "\n",
      "Increase the number of iterations (max_iter) or scale the data as shown in:\n",
      "    https://scikit-learn.org/stable/modules/preprocessing.html\n",
      "Please also refer to the documentation for alternative solver options:\n",
      "    https://scikit-learn.org/stable/modules/linear_model.html#logistic-regression\n",
      "  n_iter_i = _check_optimize_result(\n",
      "/Users/catiaspsilva/miniconda3/envs/fml/lib/python3.10/site-packages/sklearn/linear_model/_logistic.py:444: ConvergenceWarning: lbfgs failed to converge (status=1):\n",
      "STOP: TOTAL NO. of ITERATIONS REACHED LIMIT.\n",
      "\n",
      "Increase the number of iterations (max_iter) or scale the data as shown in:\n",
      "    https://scikit-learn.org/stable/modules/preprocessing.html\n",
      "Please also refer to the documentation for alternative solver options:\n",
      "    https://scikit-learn.org/stable/modules/linear_model.html#logistic-regression\n",
      "  n_iter_i = _check_optimize_result(\n",
      "/Users/catiaspsilva/miniconda3/envs/fml/lib/python3.10/site-packages/sklearn/linear_model/_logistic.py:444: ConvergenceWarning: lbfgs failed to converge (status=1):\n",
      "STOP: TOTAL NO. of ITERATIONS REACHED LIMIT.\n",
      "\n",
      "Increase the number of iterations (max_iter) or scale the data as shown in:\n",
      "    https://scikit-learn.org/stable/modules/preprocessing.html\n",
      "Please also refer to the documentation for alternative solver options:\n",
      "    https://scikit-learn.org/stable/modules/linear_model.html#logistic-regression\n",
      "  n_iter_i = _check_optimize_result(\n",
      "/Users/catiaspsilva/miniconda3/envs/fml/lib/python3.10/site-packages/sklearn/linear_model/_logistic.py:444: ConvergenceWarning: lbfgs failed to converge (status=1):\n",
      "STOP: TOTAL NO. of ITERATIONS REACHED LIMIT.\n",
      "\n",
      "Increase the number of iterations (max_iter) or scale the data as shown in:\n",
      "    https://scikit-learn.org/stable/modules/preprocessing.html\n",
      "Please also refer to the documentation for alternative solver options:\n",
      "    https://scikit-learn.org/stable/modules/linear_model.html#logistic-regression\n",
      "  n_iter_i = _check_optimize_result(\n",
      "/Users/catiaspsilva/miniconda3/envs/fml/lib/python3.10/site-packages/sklearn/linear_model/_logistic.py:444: ConvergenceWarning: lbfgs failed to converge (status=1):\n",
      "STOP: TOTAL NO. of ITERATIONS REACHED LIMIT.\n",
      "\n",
      "Increase the number of iterations (max_iter) or scale the data as shown in:\n",
      "    https://scikit-learn.org/stable/modules/preprocessing.html\n",
      "Please also refer to the documentation for alternative solver options:\n",
      "    https://scikit-learn.org/stable/modules/linear_model.html#logistic-regression\n",
      "  n_iter_i = _check_optimize_result(\n",
      "/Users/catiaspsilva/miniconda3/envs/fml/lib/python3.10/site-packages/sklearn/linear_model/_logistic.py:444: ConvergenceWarning: lbfgs failed to converge (status=1):\n",
      "STOP: TOTAL NO. of ITERATIONS REACHED LIMIT.\n",
      "\n",
      "Increase the number of iterations (max_iter) or scale the data as shown in:\n",
      "    https://scikit-learn.org/stable/modules/preprocessing.html\n",
      "Please also refer to the documentation for alternative solver options:\n",
      "    https://scikit-learn.org/stable/modules/linear_model.html#logistic-regression\n",
      "  n_iter_i = _check_optimize_result(\n"
     ]
    }
   ],
   "source": [
    "filterwarnings('ignore')\n",
    "\n",
    "scores_pipe1 = cross_val_score(pipe1, \n",
    "                                X_train, t_train,\n",
    "                                n_jobs=-1,\n",
    "                                cv=10, \n",
    "                                scoring='accuracy')\n",
    "\n",
    "scores_pipe2 = cross_val_score(pipe2, \n",
    "                                X_train, t_train,\n",
    "                                n_jobs=-1,\n",
    "                                cv=10, \n",
    "                                scoring='accuracy')"
   ]
  },
  {
   "cell_type": "markdown",
   "metadata": {},
   "source": [
    "5. **Evaluate performance in training and test sets.**"
   ]
  },
  {
   "cell_type": "code",
   "execution_count": 15,
   "metadata": {},
   "outputs": [
    {
     "name": "stdout",
     "output_type": "stream",
     "text": [
      "Training Set Performance\n",
      "\n",
      "Classification Report\n",
      "              precision    recall  f1-score   support\n",
      "\n",
      "         0.0       0.96      0.97      0.96      5923\n",
      "         1.0       0.95      0.97      0.96      6742\n",
      "         2.0       0.92      0.90      0.91      5958\n",
      "         3.0       0.91      0.89      0.90      6131\n",
      "         4.0       0.92      0.93      0.93      5842\n",
      "         5.0       0.88      0.87      0.87      5421\n",
      "         6.0       0.94      0.96      0.95      5918\n",
      "         7.0       0.93      0.94      0.94      6265\n",
      "         8.0       0.89      0.88      0.88      5851\n",
      "         9.0       0.90      0.90      0.90      5949\n",
      "\n",
      "    accuracy                           0.92     60000\n",
      "   macro avg       0.92      0.92      0.92     60000\n",
      "weighted avg       0.92      0.92      0.92     60000\n",
      "\n",
      "Confusion Matrix\n",
      "[[5728    1   23    8    9   56   40   11   40    7]\n",
      " [   1 6562   27   22    7   30    3   14   66   10]\n",
      " [  29   61 5343   88   72   40   80   80  138   27]\n",
      " [  20   27  130 5461    5  225   23   61  117   62]\n",
      " [  12   28   35    7 5434    5   53   20   36  212]\n",
      " [  69   20   57  191   70 4690   99   23  152   50]\n",
      " [  37   14   48    2   49   74 5657    2   32    3]\n",
      " [  14   21   76   21   54   12    4 5861   18  184]\n",
      " [  31  122   76  150   33  175   42   19 5129   74]\n",
      " [  29   31   16   70  159   42    2  179   50 5371]]\n",
      "\n",
      "Validation Set Performance\n",
      "95% CI:  (0.9093280001631313, 0.921805333170202)\n",
      "===================================================================\n",
      "\n",
      "\n",
      " Test Set Performance\n",
      "\n",
      "Classification Report\n",
      "              precision    recall  f1-score   support\n",
      "\n",
      "         0.0       0.94      0.97      0.96       980\n",
      "         1.0       0.96      0.98      0.97      1135\n",
      "         2.0       0.92      0.90      0.91      1032\n",
      "         3.0       0.90      0.90      0.90      1010\n",
      "         4.0       0.92      0.93      0.92       982\n",
      "         5.0       0.89      0.87      0.88       892\n",
      "         6.0       0.94      0.95      0.94       958\n",
      "         7.0       0.92      0.92      0.92      1028\n",
      "         8.0       0.88      0.88      0.88       974\n",
      "         9.0       0.90      0.89      0.90      1009\n",
      "\n",
      "    accuracy                           0.92     10000\n",
      "   macro avg       0.92      0.92      0.92     10000\n",
      "weighted avg       0.92      0.92      0.92     10000\n",
      "\n",
      "Confusion Matrix\n",
      "[[ 955    0    4    2    0    7    9    2    1    0]\n",
      " [   0 1110    1    3    0    2    4    2   13    0]\n",
      " [   6    9  925   14    6    6   12   12   34    8]\n",
      " [   3    2   22  913    0   30    1   13   16   10]\n",
      " [   2    2    6    3  910    0    9    3    9   38]\n",
      " [   8    3    6   39    8  773   16    5   27    7]\n",
      " [  14    3    7    1    9    9  908    3    4    0]\n",
      " [   3    7   25    8    7    0    0  947    2   29]\n",
      " [   9   11    4   27   11   36   10    9  853    4]\n",
      " [  11    7    2    8   37    6    0   30    6  902]]\n"
     ]
    }
   ],
   "source": [
    "# Performance measures in training/test with pipeline 1\n",
    "print('Training Set Performance\\n')\n",
    "print('Classification Report')\n",
    "print(classification_report(t_train, y_train_pipe1))\n",
    "print('Confusion Matrix')\n",
    "print(confusion_matrix(t_train, y_train_pipe1))\n",
    "print('\\nValidation Set Performance')\n",
    "print('95% CI: ', stats.t.interval(0.95, len(scores_pipe1) - 1,\n",
    "                 loc=scores_pipe1.mean(),\n",
    "                 scale=scores_pipe1.std(ddof=1)/np.sqrt(len(scores_pipe1))))\n",
    "print('===================================================================')\n",
    "\n",
    "print('\\n\\n Test Set Performance\\n')\n",
    "print('Classification Report')\n",
    "print(classification_report(t_test, y_test_pipe1))\n",
    "print('Confusion Matrix')\n",
    "print(confusion_matrix(t_test, y_test_pipe1))"
   ]
  },
  {
   "cell_type": "code",
   "execution_count": 16,
   "metadata": {},
   "outputs": [
    {
     "name": "stdout",
     "output_type": "stream",
     "text": [
      "Training Set Performance\n",
      "\n",
      "Classification Report\n",
      "              precision    recall  f1-score   support\n",
      "\n",
      "         0.0       0.97      0.97      0.97      5923\n",
      "         1.0       0.96      0.98      0.97      6742\n",
      "         2.0       0.93      0.92      0.92      5958\n",
      "         3.0       0.92      0.91      0.91      6131\n",
      "         4.0       0.94      0.94      0.94      5842\n",
      "         5.0       0.91      0.90      0.90      5421\n",
      "         6.0       0.95      0.97      0.96      5918\n",
      "         7.0       0.95      0.94      0.95      6265\n",
      "         8.0       0.91      0.90      0.90      5851\n",
      "         9.0       0.91      0.92      0.92      5949\n",
      "\n",
      "    accuracy                           0.94     60000\n",
      "   macro avg       0.93      0.93      0.93     60000\n",
      "weighted avg       0.94      0.94      0.94     60000\n",
      "\n",
      "Confusion Matrix\n",
      "[[5771    1   13    9   13   38   32    8   32    6]\n",
      " [   1 6587   29   20    6   21    4   13   51   10]\n",
      " [  26   49 5459   89   60   23   56   53  118   25]\n",
      " [  16   26  121 5580    7  172   14   50  104   41]\n",
      " [  11   23   24   11 5498    8   49   19   34  165]\n",
      " [  50   18   39  153   44 4871   76   16  113   41]\n",
      " [  29   11   40    1   36   61 5713    4   19    4]\n",
      " [   7   18   60   23   43    9    4 5914   14  173]\n",
      " [  24   99   56  138   24  137   36   17 5265   55]\n",
      " [  19   26   14   68  122   36    3  148   42 5471]]\n",
      "\n",
      "Validation Set Performance\n",
      "95% CI:  (0.91389820925477, 0.9266351240785635)\n",
      "===================================================================\n",
      "\n",
      "\n",
      " Test Set Performance\n",
      "\n",
      "Classification Report\n",
      "              precision    recall  f1-score   support\n",
      "\n",
      "         0.0       0.95      0.98      0.97       980\n",
      "         1.0       0.96      0.98      0.97      1135\n",
      "         2.0       0.93      0.90      0.91      1032\n",
      "         3.0       0.90      0.91      0.91      1010\n",
      "         4.0       0.94      0.93      0.93       982\n",
      "         5.0       0.91      0.88      0.89       892\n",
      "         6.0       0.93      0.95      0.94       958\n",
      "         7.0       0.94      0.93      0.93      1028\n",
      "         8.0       0.88      0.88      0.88       974\n",
      "         9.0       0.91      0.92      0.92      1009\n",
      "\n",
      "    accuracy                           0.93     10000\n",
      "   macro avg       0.92      0.92      0.92     10000\n",
      "weighted avg       0.93      0.93      0.93     10000\n",
      "\n",
      "Confusion Matrix\n",
      "[[ 960    0    0    3    1    7    4    4    1    0]\n",
      " [   0 1111    5    1    0    2    3    2   11    0]\n",
      " [   5    7  927   15    9    4   15    6   40    4]\n",
      " [   4    1   18  918    1   22    4   11   22    9]\n",
      " [   1    2    7    3  912    0   10    8    7   32]\n",
      " [  11    2    3   35    8  782   13    6   28    4]\n",
      " [   9    3    8    2    7   14  912    2    1    0]\n",
      " [   1    8   25    4    7    1    0  952    3   27]\n",
      " [   9   13    7   24    6   26   15    7  853   14]\n",
      " [   8    8    0   11   21    6    0   20    8  927]]\n"
     ]
    }
   ],
   "source": [
    "# Performance measures in training/test with pipeline 2\n",
    "print('Training Set Performance\\n')\n",
    "print('Classification Report')\n",
    "print(classification_report(t_train, y_train_pipe2))\n",
    "print('Confusion Matrix')\n",
    "print(confusion_matrix(t_train, y_train_pipe2))\n",
    "print('\\nValidation Set Performance')\n",
    "print('95% CI: ', stats.t.interval(0.95, len(scores_pipe2) - 1,\n",
    "                 loc=scores_pipe2.mean(),\n",
    "                 scale=scores_pipe2.std(ddof=1)/np.sqrt(len(scores_pipe2))))\n",
    "print('===================================================================')\n",
    "\n",
    "print('\\n\\n Test Set Performance\\n')\n",
    "print('Classification Report')\n",
    "print(classification_report(t_test, y_test_pipe2))\n",
    "print('Confusion Matrix')\n",
    "print(confusion_matrix(t_test, y_test_pipe2))"
   ]
  },
  {
   "cell_type": "markdown",
   "metadata": {},
   "source": [
    "---"
   ]
  },
  {
   "cell_type": "markdown",
   "metadata": {},
   "source": [
    "# Exercise 2 (15 points)\n",
    "\n",
    "**In this problem, you will be working with the [California Housing dataset](https://scikit-learn.org/stable/modules/generated/sklearn.datasets.fetch_california_housing.html). The California Housing dataset consists of 20,640 samples, each described with 8 features. Let's import it:**"
   ]
  },
  {
   "cell_type": "code",
   "execution_count": 2,
   "metadata": {
    "tags": []
   },
   "outputs": [
    {
     "name": "stdout",
     "output_type": "stream",
     "text": [
      ".. _california_housing_dataset:\n",
      "\n",
      "California Housing dataset\n",
      "--------------------------\n",
      "\n",
      "**Data Set Characteristics:**\n",
      "\n",
      "    :Number of Instances: 20640\n",
      "\n",
      "    :Number of Attributes: 8 numeric, predictive attributes and the target\n",
      "\n",
      "    :Attribute Information:\n",
      "        - MedInc        median income in block\n",
      "        - HouseAge      median house age in block\n",
      "        - AveRooms      average number of rooms\n",
      "        - AveBedrms     average number of bedrooms\n",
      "        - Population    block population\n",
      "        - AveOccup      average house occupancy\n",
      "        - Latitude      house block latitude\n",
      "        - Longitude     house block longitude\n",
      "\n",
      "    :Missing Attribute Values: None\n",
      "\n",
      "This dataset was obtained from the StatLib repository.\n",
      "http://lib.stat.cmu.edu/datasets/\n",
      "\n",
      "The target variable is the median house value for California districts.\n",
      "\n",
      "This dataset was derived from the 1990 U.S. census, using one row per census\n",
      "block group. A block group is the smallest geographical unit for which the U.S.\n",
      "Census Bureau publishes sample data (a block group typically has a population\n",
      "of 600 to 3,000 people).\n",
      "\n",
      "It can be downloaded/loaded using the\n",
      ":func:`sklearn.datasets.fetch_california_housing` function.\n",
      "\n",
      ".. topic:: References\n",
      "\n",
      "    - Pace, R. Kelley and Ronald Barry, Sparse Spatial Autoregressions,\n",
      "      Statistics and Probability Letters, 33 (1997) 291-297\n",
      "\n"
     ]
    }
   ],
   "source": [
    "from sklearn.datasets import fetch_california_housing \n",
    "housing = fetch_california_housing()\n",
    "print(housing.DESCR)"
   ]
  },
  {
   "cell_type": "code",
   "execution_count": 3,
   "metadata": {
    "tags": []
   },
   "outputs": [
    {
     "data": {
      "text/plain": [
       "((20640, 8), (20640,))"
      ]
     },
     "execution_count": 3,
     "metadata": {},
     "output_type": "execute_result"
    }
   ],
   "source": [
    "X = housing.data # feature matrix (attributes/features are described above)\n",
    "\n",
    "t = housing.target # target vector (median house value expressed in $100,000)\n",
    "\n",
    "X.shape, t.shape"
   ]
  },
  {
   "cell_type": "code",
   "execution_count": 4,
   "metadata": {
    "tags": []
   },
   "outputs": [
    {
     "data": {
      "image/png": "[encoded data removed]",
      "text/plain": [
       "<Figure size 432x288 with 1 Axes>"
      ]
     },
     "metadata": {
      "needs_background": "light"
     },
     "output_type": "display_data"
    }
   ],
   "source": [
    "plt.hist(t, bins=50);"
   ]
  },
  {
   "cell_type": "markdown",
   "metadata": {},
   "source": [
    "The distribution of the target variable is not uniform. So a random partition may result in one of the sets not containing samples with large median income values.\n",
    "\n",
    "We can encode the target values to labels and use those to perform a stratified partition.\n",
    "\n",
    "Below is an example of a categorical encoding:"
   ]
  },
  {
   "cell_type": "code",
   "execution_count": 5,
   "metadata": {
    "tags": []
   },
   "outputs": [
    {
     "data": {
      "image/png": "[encoded data removed]",
      "text/plain": [
       "<Figure size 432x288 with 1 Axes>"
      ]
     },
     "metadata": {
      "needs_background": "light"
     },
     "output_type": "display_data"
    }
   ],
   "source": [
    "import pandas as pd\n",
    "income_cat = pd.cut(t, \n",
    "                    bins=[0., 1.5, 3.0, 4.5, 6., np.inf], \n",
    "                    labels=[1, 2, 3, 4, 5])\n",
    "\n",
    "plt.hist(income_cat);"
   ]
  },
  {
   "cell_type": "markdown",
   "metadata": {},
   "source": [
    "**Answer the following questions:**\n",
    "\n",
    "1. (1 point) **Partition the data into a *full training set* and a test set. Use a 80/20 stratified split with a fixed ```random_state```. Then partition the *full training set* into a train set and a validation set. For this last partition, use a 70/30 stratified split with a fixed ```random_state```.**"
   ]
  },
  {
   "cell_type": "code",
   "execution_count": 6,
   "metadata": {
    "tags": []
   },
   "outputs": [
    {
     "data": {
      "text/plain": [
       "((11558, 8), (4954, 8), (4128, 8), (11558,), (4954,), (4128,))"
      ]
     },
     "execution_count": 6,
     "metadata": {},
     "output_type": "execute_result"
    }
   ],
   "source": [
    "from sklearn.model_selection import train_test_split \n",
    "\n",
    "X_train_full, X_test, t_train_full, t_test, income_cat_training, income_cat_test = train_test_split(X, t, income_cat,\n",
    "                                                                                                 test_size=0.2, \n",
    "                                                                                                 stratify=income_cat,\n",
    "                                                                                                 random_state=0) \n",
    "\n",
    "X_train, X_valid, t_train, t_valid, income_cat_train, income_cat_valid = train_test_split(X_train_full, \n",
    "                                                                                          t_train_full, income_cat_training,\n",
    "                                                                                          test_size=0.3,\n",
    "                                                                                          stratify=income_cat_training,\n",
    "                                                                                          random_state=0) \n",
    "\n",
    "X_train.shape, X_valid.shape, X_test.shape, t_train.shape, t_valid.shape, t_test.shape"
   ]
  },
  {
   "cell_type": "markdown",
   "metadata": {},
   "source": [
    "2. (1 point) **Apply the standardization scaling to the train, validation and test sets. Use the train set to find the mean and standard deviation.**"
   ]
  },
  {
   "cell_type": "code",
   "execution_count": 7,
   "metadata": {
    "tags": []
   },
   "outputs": [
    {
     "data": {
      "text/plain": [
       "((11558, 8), (11558,), (4954, 8), (4954,), (4128, 8), (4128,))"
      ]
     },
     "execution_count": 7,
     "metadata": {},
     "output_type": "execute_result"
    }
   ],
   "source": [
    "from sklearn.preprocessing import StandardScaler\n",
    "\n",
    "scaler = StandardScaler() \n",
    "\n",
    "X_train = scaler.fit_transform(X_train)\n",
    "X_valid = scaler.transform(X_valid) \n",
    "X_test = scaler.transform(X_test)\n",
    "\n",
    "X_train.shape, t_train.shape, X_valid.shape, t_valid.shape, X_test.shape, t_test.shape"
   ]
  },
  {
   "cell_type": "markdown",
   "metadata": {},
   "source": [
    "3. (5 points) **Use the Sequential API to build an MLP with 2 hidden layers with the Leaky ReLU activation function and associated ```alpha=0.2```. The first hidden layer should have 50 neurons and the second 10 neurons. How many neurons should you include in the input and output layers? what should be the activation function in the output layer?**"
   ]
  },
  {
   "cell_type": "markdown",
   "metadata": {},
   "source": [
    "The input layer will have as many input neurons as there are attributes, thus a total of 8 units. The output layer will have as many units as the dimensionality of the target response. In this case our target is 1-D, for each sample, we wish to predict its median value.\n",
    "\n",
    "As seen below, since the target is always positive (not scaled), and greater than 1, the most activation functions for the output layer are the ReLU or linear functions."
   ]
  },
  {
   "cell_type": "code",
   "execution_count": 8,
   "metadata": {
    "tags": []
   },
   "outputs": [
    {
     "data": {
      "image/png": "[encoded data removed]",
      "text/plain": [
       "<Figure size 432x288 with 1 Axes>"
      ]
     },
     "metadata": {
      "needs_background": "light"
     },
     "output_type": "display_data"
    }
   ],
   "source": [
    "plt.boxplot(t);"
   ]
  },
  {
   "cell_type": "code",
   "execution_count": 9,
   "metadata": {
    "tags": []
   },
   "outputs": [
    {
     "name": "stdout",
     "output_type": "stream",
     "text": [
      "Model: \"sequential\"\n",
      "_________________________________________________________________\n",
      " Layer (type)                Output Shape              Param #   \n",
      "=================================================================\n",
      " flatten (Flatten)           (None, 8)                 0         \n",
      "                                                                 \n",
      " dense (Dense)               (None, 50)                450       \n",
      "                                                                 \n",
      " leaky_re_lu (LeakyReLU)     (None, 50)                0         \n",
      "                                                                 \n",
      " dense_1 (Dense)             (None, 10)                510       \n",
      "                                                                 \n",
      " leaky_re_lu_1 (LeakyReLU)   (None, 10)                0         \n",
      "                                                                 \n",
      " dense_2 (Dense)             (None, 1)                 11        \n",
      "                                                                 \n",
      "=================================================================\n",
      "Total params: 971\n",
      "Trainable params: 971\n",
      "Non-trainable params: 0\n",
      "_________________________________________________________________\n"
     ]
    },
    {
     "name": "stderr",
     "output_type": "stream",
     "text": [
      "2023-11-30 22:14:58.517091: I tensorflow/core/platform/cpu_feature_guard.cc:151] This TensorFlow binary is optimized with oneAPI Deep Neural Network Library (oneDNN) to use the following CPU instructions in performance-critical operations:  SSE4.1 SSE4.2 AVX AVX2 FMA\n",
      "To enable them in other operations, rebuild TensorFlow with the appropriate compiler flags.\n",
      "2023-11-30 22:14:59.839213: I tensorflow/core/common_runtime/gpu/gpu_device.cc:1525] Created device /job:localhost/replica:0/task:0/device:GPU:0 with 78911 MB memory:  -> device: 0, name: NVIDIA A100-SXM4-80GB, pci bus id: 0000:4e:00.0, compute capability: 8.0\n",
      "2023-11-30 22:14:59.841177: I tensorflow/core/common_runtime/gpu/gpu_device.cc:1525] Created device /job:localhost/replica:0/task:0/device:GPU:1 with 78911 MB memory:  -> device: 1, name: NVIDIA A100-SXM4-80GB, pci bus id: 0000:bd:00.0, compute capability: 8.0\n"
     ]
    }
   ],
   "source": [
    "model = keras.models.Sequential([\n",
    "    keras.layers.Flatten(input_shape=[8]),\n",
    "    keras.layers.Dense(50),\n",
    "    keras.layers.LeakyReLU(0.2),\n",
    "    keras.layers.Dense(10),\n",
    "    keras.layers.LeakyReLU(0.2),\n",
    "    keras.layers.Dense(1, activation='relu')\n",
    "])\n",
    "\n",
    "model.summary()"
   ]
  },
  {
   "cell_type": "markdown",
   "metadata": {},
   "source": [
    "4. (3 points) **Compile the model with the Mean Squared Error [loss function](https://keras.io/api/losses/), the Adam [optimizer](https://keras.io/api/optimizers/) with learning rate of 0.001, and the ```MeanSquaredError``` [performance metric](https://keras.io/api/metrics/).**"
   ]
  },
  {
   "cell_type": "code",
   "execution_count": 10,
   "metadata": {
    "tags": []
   },
   "outputs": [],
   "source": [
    "model.compile(loss=keras.losses.MeanSquaredError(),\n",
    "              optimizer=keras.optimizers.Adam(learning_rate=0.001),\n",
    "              metrics=keras.metrics.MeanSquaredError(name='mse'))"
   ]
  },
  {
   "cell_type": "markdown",
   "metadata": {},
   "source": [
    "5. (2 points) **Train the model using the train and validation sets with online learning, 200 epochs and early stopping callback with a patience of 10 (on the loss value for the validation set). Plot the learning curves. Discuss your observations.**\n"
   ]
  },
  {
   "cell_type": "code",
   "execution_count": 11,
   "metadata": {
    "tags": []
   },
   "outputs": [
    {
     "name": "stdout",
     "output_type": "stream",
     "text": [
      "Epoch 1/200\n",
      "  157/11558 [..............................] - ETA: 11s - loss: 3.7352 - mse: 3.7352"
     ]
    },
    {
     "name": "stderr",
     "output_type": "stream",
     "text": [
      "2023-11-30 22:15:03.768256: I tensorflow/stream_executor/cuda/cuda_blas.cc:1774] TensorFloat-32 will be used for the matrix multiplication. This will only be logged once.\n"
     ]
    },
    {
     "name": "stdout",
     "output_type": "stream",
     "text": [
      "11558/11558 [==============================] - 18s 1ms/step - loss: 0.5113 - mse: 0.5113 - val_loss: 0.4045 - val_mse: 0.4045\n",
      "Epoch 2/200\n",
      "11558/11558 [==============================] - 17s 1ms/step - loss: 0.3910 - mse: 0.3910 - val_loss: 0.4159 - val_mse: 0.4159\n",
      "Epoch 3/200\n",
      "11558/11558 [==============================] - 17s 1ms/step - loss: 0.3695 - mse: 0.3695 - val_loss: 0.3677 - val_mse: 0.3677\n",
      "Epoch 4/200\n",
      "11558/11558 [==============================] - 14s 1ms/step - loss: 0.3501 - mse: 0.3501 - val_loss: 0.3540 - val_mse: 0.3540\n",
      "Epoch 5/200\n",
      "11558/11558 [==============================] - 17s 1ms/step - loss: 0.3419 - mse: 0.3419 - val_loss: 0.3552 - val_mse: 0.3552\n",
      "Epoch 6/200\n",
      "11558/11558 [==============================] - 14s 1ms/step - loss: 0.3336 - mse: 0.3336 - val_loss: 0.3299 - val_mse: 0.3299\n",
      "Epoch 7/200\n",
      "11558/11558 [==============================] - 14s 1ms/step - loss: 0.3573 - mse: 0.3573 - val_loss: 0.3168 - val_mse: 0.3168\n",
      "Epoch 8/200\n",
      "11558/11558 [==============================] - 17s 1ms/step - loss: 0.4487 - mse: 0.4487 - val_loss: 0.3176 - val_mse: 0.3176\n",
      "Epoch 9/200\n",
      "11558/11558 [==============================] - 17s 1ms/step - loss: 0.3177 - mse: 0.3177 - val_loss: 0.3589 - val_mse: 0.3589\n",
      "Epoch 10/200\n",
      "11558/11558 [==============================] - 14s 1ms/step - loss: 0.3165 - mse: 0.3165 - val_loss: 0.3272 - val_mse: 0.3272\n",
      "Epoch 11/200\n",
      "11558/11558 [==============================] - 17s 1ms/step - loss: 0.3316 - mse: 0.3316 - val_loss: 0.3267 - val_mse: 0.3267\n",
      "Epoch 12/200\n",
      "11558/11558 [==============================] - 14s 1ms/step - loss: 0.3289 - mse: 0.3289 - val_loss: 0.3057 - val_mse: 0.3057\n",
      "Epoch 13/200\n",
      "11558/11558 [==============================] - 14s 1ms/step - loss: 0.3061 - mse: 0.3061 - val_loss: 0.3269 - val_mse: 0.3269\n",
      "Epoch 14/200\n",
      "11558/11558 [==============================] - 17s 1ms/step - loss: 0.3106 - mse: 0.3106 - val_loss: 0.3023 - val_mse: 0.3023\n",
      "Epoch 15/200\n",
      "11558/11558 [==============================] - 14s 1ms/step - loss: 0.3070 - mse: 0.3070 - val_loss: 0.3093 - val_mse: 0.3093\n",
      "Epoch 16/200\n",
      "11558/11558 [==============================] - 14s 1ms/step - loss: 0.3586 - mse: 0.3586 - val_loss: 0.3068 - val_mse: 0.3068\n",
      "Epoch 17/200\n",
      "11558/11558 [==============================] - 14s 1ms/step - loss: 0.3056 - mse: 0.3056 - val_loss: 0.3258 - val_mse: 0.3258\n",
      "Epoch 18/200\n",
      "11558/11558 [==============================] - 14s 1ms/step - loss: 0.3016 - mse: 0.3016 - val_loss: 0.3165 - val_mse: 0.3165\n",
      "Epoch 19/200\n",
      "11558/11558 [==============================] - 14s 1ms/step - loss: 1.6575 - mse: 1.6575 - val_loss: 0.3091 - val_mse: 0.3091\n",
      "Epoch 20/200\n",
      "11558/11558 [==============================] - 17s 1ms/step - loss: 0.2926 - mse: 0.2926 - val_loss: 0.2991 - val_mse: 0.2991\n",
      "Epoch 21/200\n",
      "11558/11558 [==============================] - 17s 1ms/step - loss: 0.2980 - mse: 0.2980 - val_loss: 0.3115 - val_mse: 0.3115\n",
      "Epoch 22/200\n",
      "11558/11558 [==============================] - 14s 1ms/step - loss: 0.2988 - mse: 0.2988 - val_loss: 0.3034 - val_mse: 0.3034\n",
      "Epoch 23/200\n",
      "11558/11558 [==============================] - 14s 1ms/step - loss: 0.2942 - mse: 0.2942 - val_loss: 0.3010 - val_mse: 0.3010\n",
      "Epoch 24/200\n",
      "11558/11558 [==============================] - 14s 1ms/step - loss: 0.5021 - mse: 0.5021 - val_loss: 0.3104 - val_mse: 0.3104\n",
      "Epoch 25/200\n",
      "11558/11558 [==============================] - 14s 1ms/step - loss: 0.2868 - mse: 0.2868 - val_loss: 0.3085 - val_mse: 0.3085\n",
      "Epoch 26/200\n",
      "11558/11558 [==============================] - 17s 1ms/step - loss: 0.2937 - mse: 0.2937 - val_loss: 0.3101 - val_mse: 0.3101\n",
      "Epoch 27/200\n",
      "11558/11558 [==============================] - 14s 1ms/step - loss: 0.2871 - mse: 0.2871 - val_loss: 0.2945 - val_mse: 0.2945\n",
      "Epoch 28/200\n",
      "11558/11558 [==============================] - 14s 1ms/step - loss: 0.2868 - mse: 0.2868 - val_loss: 0.3113 - val_mse: 0.3113\n",
      "Epoch 29/200\n",
      "11558/11558 [==============================] - 17s 1ms/step - loss: 0.2876 - mse: 0.2876 - val_loss: 0.3097 - val_mse: 0.3097\n",
      "Epoch 30/200\n",
      "11558/11558 [==============================] - 15s 1ms/step - loss: 0.2838 - mse: 0.2838 - val_loss: 0.3046 - val_mse: 0.3046\n",
      "Epoch 31/200\n",
      "11558/11558 [==============================] - 17s 1ms/step - loss: 0.2858 - mse: 0.2858 - val_loss: 0.3171 - val_mse: 0.3171\n",
      "Epoch 32/200\n",
      "11558/11558 [==============================] - 14s 1ms/step - loss: 0.4006 - mse: 0.4006 - val_loss: 0.3137 - val_mse: 0.3137\n",
      "Epoch 33/200\n",
      "11558/11558 [==============================] - 17s 1ms/step - loss: 0.3060 - mse: 0.3060 - val_loss: 0.2980 - val_mse: 0.2980\n",
      "Epoch 34/200\n",
      "11558/11558 [==============================] - 14s 1ms/step - loss: 0.3004 - mse: 0.3004 - val_loss: 0.2945 - val_mse: 0.2945\n",
      "Epoch 35/200\n",
      "11558/11558 [==============================] - 17s 1ms/step - loss: 0.2830 - mse: 0.2830 - val_loss: 0.2940 - val_mse: 0.2940\n",
      "Epoch 36/200\n",
      "11558/11558 [==============================] - 14s 1ms/step - loss: 0.2830 - mse: 0.2830 - val_loss: 0.2979 - val_mse: 0.2979\n",
      "Epoch 37/200\n",
      "11558/11558 [==============================] - 17s 1ms/step - loss: 0.2862 - mse: 0.2862 - val_loss: 0.2913 - val_mse: 0.2913\n",
      "Epoch 38/200\n",
      "11558/11558 [==============================] - 17s 1ms/step - loss: 0.2840 - mse: 0.2840 - val_loss: 0.3009 - val_mse: 0.3009\n",
      "Epoch 39/200\n",
      "11558/11558 [==============================] - 17s 1ms/step - loss: 0.2783 - mse: 0.2783 - val_loss: 0.3075 - val_mse: 0.3075\n",
      "Epoch 40/200\n",
      "11558/11558 [==============================] - 17s 1ms/step - loss: 0.2802 - mse: 0.2802 - val_loss: 0.2869 - val_mse: 0.2869\n",
      "Epoch 41/200\n",
      "11558/11558 [==============================] - 17s 1ms/step - loss: 0.5053 - mse: 0.5053 - val_loss: 0.2976 - val_mse: 0.2976\n",
      "Epoch 42/200\n",
      "11558/11558 [==============================] - 17s 1ms/step - loss: 0.2760 - mse: 0.2760 - val_loss: 0.2898 - val_mse: 0.2898\n",
      "Epoch 43/200\n",
      "11558/11558 [==============================] - 14s 1ms/step - loss: 0.2767 - mse: 0.2767 - val_loss: 0.2820 - val_mse: 0.2820\n",
      "Epoch 44/200\n",
      "11558/11558 [==============================] - 14s 1ms/step - loss: 1.1250 - mse: 1.1250 - val_loss: 0.2892 - val_mse: 0.2892\n",
      "Epoch 45/200\n",
      "11558/11558 [==============================] - 14s 1ms/step - loss: 0.2747 - mse: 0.2747 - val_loss: 0.3094 - val_mse: 0.3094\n",
      "Epoch 46/200\n",
      "11558/11558 [==============================] - 17s 1ms/step - loss: 0.2787 - mse: 0.2787 - val_loss: 0.3071 - val_mse: 0.3071\n",
      "Epoch 47/200\n",
      "11558/11558 [==============================] - 14s 1ms/step - loss: 0.2762 - mse: 0.2762 - val_loss: 0.3172 - val_mse: 0.3172\n",
      "Epoch 48/200\n",
      "11558/11558 [==============================] - 14s 1ms/step - loss: 0.3553 - mse: 0.3553 - val_loss: 0.3047 - val_mse: 0.3047\n",
      "Epoch 49/200\n",
      "11558/11558 [==============================] - 14s 1ms/step - loss: 0.2745 - mse: 0.2745 - val_loss: 0.3045 - val_mse: 0.3045\n",
      "Epoch 50/200\n",
      "11558/11558 [==============================] - 14s 1ms/step - loss: 0.2750 - mse: 0.2750 - val_loss: 0.2928 - val_mse: 0.2928\n",
      "Epoch 51/200\n",
      "11558/11558 [==============================] - 17s 1ms/step - loss: 0.2706 - mse: 0.2706 - val_loss: 0.2918 - val_mse: 0.2918\n",
      "Epoch 52/200\n",
      "11558/11558 [==============================] - 17s 1ms/step - loss: 0.2770 - mse: 0.2770 - val_loss: 0.3111 - val_mse: 0.3111\n",
      "Epoch 53/200\n",
      "11558/11558 [==============================] - 17s 1ms/step - loss: 0.2749 - mse: 0.2749 - val_loss: 0.2985 - val_mse: 0.2985\n"
     ]
    }
   ],
   "source": [
    "history = model.fit(X_train, t_train, epochs=200, batch_size=1,\n",
    "                    validation_data=(X_valid, t_valid),\n",
    "                    callbacks=keras.callbacks.EarlyStopping(patience=10, monitor='val_loss'))"
   ]
  },
  {
   "cell_type": "code",
   "execution_count": 12,
   "metadata": {
    "tags": []
   },
   "outputs": [
    {
     "data": {
      "image/png": "[encoded data removed]",
      "text/plain": [
       "<Figure size 1080x360 with 1 Axes>"
      ]
     },
     "metadata": {
      "needs_background": "light"
     },
     "output_type": "display_data"
    }
   ],
   "source": [
    "key_names = list(history.history.keys())\n",
    "colors = ['-r','--b','-og','-.k']\n",
    "\n",
    "plt.figure(figsize=(15,5))\n",
    "for i in range(len(key_names)):\n",
    "    plt.plot(history.history[key_names[i]], colors[i], label=key_names[i])\n",
    "plt.legend(fontsize=15,ncol=2)\n",
    "plt.title('Learning Curves', size=15);"
   ]
  },
  {
   "cell_type": "markdown",
   "metadata": {},
   "source": [
    "6. (2 points) **Evaluate the mean squared error performance in the train and test sets.**"
   ]
  },
  {
   "cell_type": "code",
   "execution_count": 13,
   "metadata": {
    "tags": []
   },
   "outputs": [
    {
     "name": "stdout",
     "output_type": "stream",
     "text": [
      "362/362 [==============================] - 0s 1ms/step - loss: 0.2665 - mse: 0.2665\n",
      "129/129 [==============================] - 0s 1ms/step - loss: 0.3102 - mse: 0.3102\n"
     ]
    }
   ],
   "source": [
    "mse_train = model.evaluate(X_train, t_train)\n",
    "\n",
    "mse_test = model.evaluate(X_test, t_test)"
   ]
  },
  {
   "cell_type": "markdown",
   "metadata": {},
   "source": [
    "7. (2 points) **Predict the housing prices for the train and test sets. Use these predictions to calculate the [$r^2$ score](https://scikit-learn.org/stable/modules/generated/sklearn.metrics.r2_score.html).**"
   ]
  },
  {
   "cell_type": "code",
   "execution_count": 14,
   "metadata": {
    "tags": []
   },
   "outputs": [],
   "source": [
    "y_train = model.predict(X_train)\n",
    "y_valid = model.predict(X_valid)\n",
    "y_test = model.predict(X_test)"
   ]
  },
  {
   "cell_type": "code",
   "execution_count": 15,
   "metadata": {
    "scrolled": true,
    "tags": []
   },
   "outputs": [
    {
     "name": "stdout",
     "output_type": "stream",
     "text": [
      "0.8000683143129845\n",
      "0.7754459056129722\n",
      "0.7668613862059209\n"
     ]
    }
   ],
   "source": [
    "from sklearn.metrics import r2_score\n",
    "\n",
    "print(r2_score(t_train, y_train))\n",
    "print(r2_score(t_valid, y_valid))\n",
    "print(r2_score(t_test, y_test))"
   ]
  },
  {
   "cell_type": "markdown",
   "metadata": {},
   "source": [
    "---"
   ]
  },
  {
   "cell_type": "markdown",
   "metadata": {},
   "source": [
    "# Exercise 3 (15 points)"
   ]
  },
  {
   "cell_type": "markdown",
   "metadata": {},
   "source": [
    "**In this problem you will again be working with the Breast Cancer Dataset available in ```scikit-learn```.**\n",
    "\n",
    "**This dataset contains 569 samples each described by 30 attributes. Each 30-dimensional sample is labeled as benign (label 1) or malignant (label 0). Let's import the data.**"
   ]
  },
  {
   "cell_type": "code",
   "execution_count": 16,
   "metadata": {
    "tags": []
   },
   "outputs": [
    {
     "data": {
      "text/plain": [
       "((569, 30), (569,))"
      ]
     },
     "execution_count": 16,
     "metadata": {},
     "output_type": "execute_result"
    }
   ],
   "source": [
    "from sklearn.datasets import load_breast_cancer\n",
    "cancer = load_breast_cancer()\n",
    "\n",
    "# Obtaining feature matrix and target labels\n",
    "X = cancer.data\n",
    "t = cancer.target\n",
    "\n",
    "X.shape, t.shape"
   ]
  },
  {
   "cell_type": "code",
   "execution_count": 17,
   "metadata": {
    "tags": []
   },
   "outputs": [],
   "source": [
    "X_training, X_test, t_training, t_test = train_test_split(X, t, \n",
    "                                                          test_size=0.2, \n",
    "                                                          shuffle=True, stratify=t, \n",
    "                                                          random_state=0)\n",
    "\n",
    "X_train, X_val, t_train, t_val = train_test_split(X_training, t_training, \n",
    "                                                  test_size=0.3, \n",
    "                                                  shuffle=True, stratify=t_training, \n",
    "                                                  random_state=0)"
   ]
  },
  {
   "cell_type": "markdown",
   "metadata": {},
   "source": [
    "1. (7 points) **Train an MLP with the Sequential API with 2 hidden layers: 1st hidden layer with 100 units and the relu activation function, 2nd hidden layer with 50 units with the relu activation function. Compile the model with the Adam optimization with $\\eta=0.01$, track the metric accuracy, and add an early stopping callback on ```val_loss``` with 10 epochs patience.**\n",
    "\n",
    "**Encode the input and output layers to solve this binary classification task. Choose appropriate activation function for the output layer and objective function.**\n",
    "\n",
    "**Report the classification report in training and test sets. Discuss results.**"
   ]
  },
  {
   "cell_type": "code",
   "execution_count": 18,
   "metadata": {
    "tags": []
   },
   "outputs": [],
   "source": [
    "model = keras.models.Sequential([\n",
    "    keras.layers.InputLayer(input_shape=[30]),\n",
    "    keras.layers.Dense(100, activation='relu'),\n",
    "    keras.layers.Dense(50, activation='relu'),\n",
    "    keras.layers.Dense(1, activation='sigmoid')\n",
    "])"
   ]
  },
  {
   "cell_type": "code",
   "execution_count": 19,
   "metadata": {
    "tags": []
   },
   "outputs": [],
   "source": [
    "model.compile(loss=keras.losses.BinaryCrossentropy(),\n",
    "             optimizer=keras.optimizers.Adam(learning_rate=0.01),\n",
    "             metrics=['accuracy'])"
   ]
  },
  {
   "cell_type": "code",
   "execution_count": 20,
   "metadata": {
    "tags": []
   },
   "outputs": [
    {
     "name": "stdout",
     "output_type": "stream",
     "text": [
      "Epoch 1/100\n",
      "10/10 [==============================] - 0s 13ms/step - loss: 36.2723 - accuracy: 0.5094 - val_loss: 6.1474 - val_accuracy: 0.4745\n",
      "Epoch 2/100\n",
      "10/10 [==============================] - 0s 4ms/step - loss: 7.5134 - accuracy: 0.5975 - val_loss: 5.5604 - val_accuracy: 0.7372\n",
      "Epoch 3/100\n",
      "10/10 [==============================] - 0s 4ms/step - loss: 3.6054 - accuracy: 0.7547 - val_loss: 1.5420 - val_accuracy: 0.8613\n",
      "Epoch 4/100\n",
      "10/10 [==============================] - 0s 4ms/step - loss: 1.6422 - accuracy: 0.8553 - val_loss: 0.4412 - val_accuracy: 0.9343\n",
      "Epoch 5/100\n",
      "10/10 [==============================] - 0s 4ms/step - loss: 0.8717 - accuracy: 0.8931 - val_loss: 0.5824 - val_accuracy: 0.8978\n",
      "Epoch 6/100\n",
      "10/10 [==============================] - 0s 4ms/step - loss: 1.2112 - accuracy: 0.8522 - val_loss: 0.7108 - val_accuracy: 0.8686\n",
      "Epoch 7/100\n",
      "10/10 [==============================] - 0s 5ms/step - loss: 0.6818 - accuracy: 0.8836 - val_loss: 0.3755 - val_accuracy: 0.9197\n",
      "Epoch 8/100\n",
      "10/10 [==============================] - 0s 7ms/step - loss: 0.5091 - accuracy: 0.8836 - val_loss: 0.5965 - val_accuracy: 0.8394\n",
      "Epoch 9/100\n",
      "10/10 [==============================] - 0s 5ms/step - loss: 0.5232 - accuracy: 0.8522 - val_loss: 0.2015 - val_accuracy: 0.9416\n",
      "Epoch 10/100\n",
      "10/10 [==============================] - 0s 7ms/step - loss: 0.2553 - accuracy: 0.9245 - val_loss: 0.3004 - val_accuracy: 0.8978\n",
      "Epoch 11/100\n",
      "10/10 [==============================] - 0s 5ms/step - loss: 0.6656 - accuracy: 0.8145 - val_loss: 0.3456 - val_accuracy: 0.9051\n",
      "Epoch 12/100\n",
      "10/10 [==============================] - 0s 5ms/step - loss: 0.5751 - accuracy: 0.8648 - val_loss: 1.3325 - val_accuracy: 0.8467\n",
      "Epoch 13/100\n",
      "10/10 [==============================] - 0s 6ms/step - loss: 0.9259 - accuracy: 0.8428 - val_loss: 0.4376 - val_accuracy: 0.9051\n",
      "Epoch 14/100\n",
      "10/10 [==============================] - 0s 4ms/step - loss: 0.5928 - accuracy: 0.8899 - val_loss: 1.1112 - val_accuracy: 0.8029\n",
      "Epoch 15/100\n",
      "10/10 [==============================] - 0s 4ms/step - loss: 0.7056 - accuracy: 0.8836 - val_loss: 0.4582 - val_accuracy: 0.8978\n",
      "Epoch 16/100\n",
      "10/10 [==============================] - 0s 4ms/step - loss: 0.6495 - accuracy: 0.8868 - val_loss: 0.2519 - val_accuracy: 0.9343\n",
      "Epoch 17/100\n",
      "10/10 [==============================] - 0s 4ms/step - loss: 0.6836 - accuracy: 0.8742 - val_loss: 0.5654 - val_accuracy: 0.8613\n",
      "Epoch 18/100\n",
      "10/10 [==============================] - 0s 4ms/step - loss: 0.3747 - accuracy: 0.8899 - val_loss: 0.2373 - val_accuracy: 0.9635\n",
      "Epoch 19/100\n",
      "10/10 [==============================] - 0s 5ms/step - loss: 0.2711 - accuracy: 0.9119 - val_loss: 0.2609 - val_accuracy: 0.9270\n"
     ]
    },
    {
     "data": {
      "text/plain": [
       "<keras.callbacks.History at 0x145c1870b970>"
      ]
     },
     "execution_count": 20,
     "metadata": {},
     "output_type": "execute_result"
    }
   ],
   "source": [
    "model.fit(X_train, t_train, epochs=100, batch_size=32,\n",
    "         validation_data=(X_val, t_val),\n",
    "         callbacks=[keras.callbacks.EarlyStopping(patience=10,monitor='val_loss')])"
   ]
  },
  {
   "cell_type": "code",
   "execution_count": 21,
   "metadata": {
    "tags": []
   },
   "outputs": [
    {
     "name": "stdout",
     "output_type": "stream",
     "text": [
      "Model: \"sequential_1\"\n",
      "_________________________________________________________________\n",
      " Layer (type)                Output Shape              Param #   \n",
      "=================================================================\n",
      " dense_3 (Dense)             (None, 100)               3100      \n",
      "                                                                 \n",
      " dense_4 (Dense)             (None, 50)                5050      \n",
      "                                                                 \n",
      " dense_5 (Dense)             (None, 1)                 51        \n",
      "                                                                 \n",
      "=================================================================\n",
      "Total params: 8,201\n",
      "Trainable params: 8,201\n",
      "Non-trainable params: 0\n",
      "_________________________________________________________________\n"
     ]
    }
   ],
   "source": [
    "model.summary()"
   ]
  },
  {
   "cell_type": "code",
   "execution_count": 22,
   "metadata": {
    "tags": []
   },
   "outputs": [],
   "source": [
    "y_train = np.round(model.predict(X_train))\n",
    "y_test = np.round(model.predict(X_test))"
   ]
  },
  {
   "cell_type": "code",
   "execution_count": 23,
   "metadata": {
    "tags": []
   },
   "outputs": [
    {
     "name": "stdout",
     "output_type": "stream",
     "text": [
      "Training Set: \n",
      "              precision    recall  f1-score   support\n",
      "\n",
      "   Malignant       0.89      0.91      0.90       119\n",
      "      Benign       0.94      0.93      0.94       199\n",
      "\n",
      "    accuracy                           0.92       318\n",
      "   macro avg       0.91      0.92      0.92       318\n",
      "weighted avg       0.92      0.92      0.92       318\n",
      " /n\n",
      "Test Set: \n",
      "              precision    recall  f1-score   support\n",
      "\n",
      "   Malignant       0.82      0.88      0.85        42\n",
      "      Benign       0.93      0.89      0.91        72\n",
      "\n",
      "    accuracy                           0.89       114\n",
      "   macro avg       0.87      0.88      0.88       114\n",
      "weighted avg       0.89      0.89      0.89       114\n",
      "\n"
     ]
    }
   ],
   "source": [
    "from sklearn.metrics import classification_report\n",
    "\n",
    "print('Training Set: ')\n",
    "print(classification_report(t_train, y_train,target_names=['Malignant', 'Benign']),'/n')\n",
    "print('Test Set: ')\n",
    "print(classification_report(t_test, y_test,target_names=['Malignant', 'Benign']))"
   ]
  },
  {
   "cell_type": "markdown",
   "metadata": {},
   "source": [
    "(8 points) **Train a CNN with the Sequential API with the following architecture:**\n",
    "\n",
    "* **convolutional layer with with 8 $3\\times 1$ filters, zeros-padding and the relu activation function**\n",
    "* **max-pooling layer with a pool size of 2 and a stride of 2**\n",
    "* **convolutional layer with 16 $7\\times 1$ filters, zeros-padding and the relu activation function**\n",
    "* **max-pooling layer with a pool size of 2 and a stride of 2**\n",
    "* **dense hidden layer with 30 units, relu activation function**\n",
    "* **output layer**\n",
    "\n",
    "**Encode the input and output layers to solve this binary classification task. Choose appropriate activation function for the output layer and objective function.**\n",
    "\n",
    "**Compile the model with the Adam optimization with $\\eta=0.01$, track the metric accuracy, and add an early stopping callback on ```val_loss``` with 10 epochs patience.**\n",
    "\n",
    "**Report the classification report in training and test sets. Discuss results.**"
   ]
  },
  {
   "cell_type": "code",
   "execution_count": 24,
   "metadata": {
    "tags": []
   },
   "outputs": [],
   "source": [
    "cnn_model = keras.models.Sequential([\n",
    "    keras.layers.Conv1D(8, 3, activation='relu', padding='same', input_shape=[30, 1]), \n",
    "    keras.layers.MaxPooling1D(2, strides=2), \n",
    "    keras.layers.Conv1D(16, 7, activation='relu', padding='same'), \n",
    "    keras.layers.MaxPooling1D(2, strides=2),\n",
    "    keras.layers.Flatten(),\n",
    "    keras.layers.Dense(30, activation='relu'),\n",
    "    keras.layers.Dense(1, activation='sigmoid')\n",
    "])"
   ]
  },
  {
   "cell_type": "code",
   "execution_count": 25,
   "metadata": {
    "tags": []
   },
   "outputs": [],
   "source": [
    "cnn_model.compile(loss=keras.losses.BinaryCrossentropy(),\n",
    "             optimizer=keras.optimizers.Adam(learning_rate=0.01),\n",
    "             metrics=['accuracy'])"
   ]
  },
  {
   "cell_type": "code",
   "execution_count": 26,
   "metadata": {
    "scrolled": true,
    "tags": []
   },
   "outputs": [
    {
     "name": "stdout",
     "output_type": "stream",
     "text": [
      "Epoch 1/100\n"
     ]
    },
    {
     "name": "stderr",
     "output_type": "stream",
     "text": [
      "2023-11-30 22:29:05.337620: I tensorflow/stream_executor/cuda/cuda_dnn.cc:366] Loaded cuDNN version 8201\n"
     ]
    },
    {
     "name": "stdout",
     "output_type": "stream",
     "text": [
      "10/10 [==============================] - 3s 20ms/step - loss: 61.5182 - accuracy: 0.5377 - val_loss: 1.8370 - val_accuracy: 0.4453\n",
      "Epoch 2/100\n",
      "10/10 [==============================] - 0s 5ms/step - loss: 7.4046 - accuracy: 0.4906 - val_loss: 2.5508 - val_accuracy: 0.6642\n",
      "Epoch 3/100\n",
      "10/10 [==============================] - 0s 5ms/step - loss: 2.2504 - accuracy: 0.6195 - val_loss: 0.6831 - val_accuracy: 0.8029\n",
      "Epoch 4/100\n",
      "10/10 [==============================] - 0s 5ms/step - loss: 1.2590 - accuracy: 0.6667 - val_loss: 0.3682 - val_accuracy: 0.8540\n",
      "Epoch 5/100\n",
      "10/10 [==============================] - 0s 5ms/step - loss: 0.4419 - accuracy: 0.8522 - val_loss: 0.3236 - val_accuracy: 0.8759\n",
      "Epoch 6/100\n",
      "10/10 [==============================] - 0s 5ms/step - loss: 0.3597 - accuracy: 0.8774 - val_loss: 0.2225 - val_accuracy: 0.9124\n",
      "Epoch 7/100\n",
      "10/10 [==============================] - 0s 6ms/step - loss: 0.3366 - accuracy: 0.8742 - val_loss: 0.1756 - val_accuracy: 0.9416\n",
      "Epoch 8/100\n",
      "10/10 [==============================] - 0s 6ms/step - loss: 0.2291 - accuracy: 0.9025 - val_loss: 0.1758 - val_accuracy: 0.9416\n",
      "Epoch 9/100\n",
      "10/10 [==============================] - 0s 6ms/step - loss: 0.2176 - accuracy: 0.9088 - val_loss: 0.1752 - val_accuracy: 0.9562\n",
      "Epoch 10/100\n",
      "10/10 [==============================] - 0s 5ms/step - loss: 0.2280 - accuracy: 0.9088 - val_loss: 0.1839 - val_accuracy: 0.9197\n",
      "Epoch 11/100\n",
      "10/10 [==============================] - 0s 5ms/step - loss: 0.2766 - accuracy: 0.9057 - val_loss: 0.1634 - val_accuracy: 0.9416\n",
      "Epoch 12/100\n",
      "10/10 [==============================] - 0s 5ms/step - loss: 0.2459 - accuracy: 0.9025 - val_loss: 0.2217 - val_accuracy: 0.9270\n",
      "Epoch 13/100\n",
      "10/10 [==============================] - 0s 5ms/step - loss: 0.2236 - accuracy: 0.9151 - val_loss: 0.3622 - val_accuracy: 0.8759\n",
      "Epoch 14/100\n",
      "10/10 [==============================] - 0s 6ms/step - loss: 0.3048 - accuracy: 0.8805 - val_loss: 0.2019 - val_accuracy: 0.9051\n",
      "Epoch 15/100\n",
      "10/10 [==============================] - 0s 5ms/step - loss: 0.2578 - accuracy: 0.8994 - val_loss: 0.1681 - val_accuracy: 0.9197\n",
      "Epoch 16/100\n",
      "10/10 [==============================] - 0s 6ms/step - loss: 0.2449 - accuracy: 0.9088 - val_loss: 0.1671 - val_accuracy: 0.9562\n",
      "Epoch 17/100\n",
      "10/10 [==============================] - 0s 6ms/step - loss: 0.2064 - accuracy: 0.9214 - val_loss: 0.1650 - val_accuracy: 0.9489\n",
      "Epoch 18/100\n",
      "10/10 [==============================] - 0s 5ms/step - loss: 0.2053 - accuracy: 0.9119 - val_loss: 0.2244 - val_accuracy: 0.9124\n",
      "Epoch 19/100\n",
      "10/10 [==============================] - 0s 5ms/step - loss: 0.2386 - accuracy: 0.9057 - val_loss: 0.2648 - val_accuracy: 0.8905\n",
      "Epoch 20/100\n",
      "10/10 [==============================] - 0s 5ms/step - loss: 0.2291 - accuracy: 0.9057 - val_loss: 0.2165 - val_accuracy: 0.9124\n",
      "Epoch 21/100\n",
      "10/10 [==============================] - 0s 6ms/step - loss: 0.2275 - accuracy: 0.9057 - val_loss: 0.3029 - val_accuracy: 0.8978\n"
     ]
    },
    {
     "data": {
      "text/plain": [
       "<keras.callbacks.History at 0x145c181a3190>"
      ]
     },
     "execution_count": 26,
     "metadata": {},
     "output_type": "execute_result"
    }
   ],
   "source": [
    "cnn_model.fit(X_train, t_train, epochs=100, batch_size=32,\n",
    "         validation_data=(X_val, t_val),\n",
    "         callbacks=[keras.callbacks.EarlyStopping(patience=10)])"
   ]
  },
  {
   "cell_type": "code",
   "execution_count": 27,
   "metadata": {
    "tags": []
   },
   "outputs": [
    {
     "name": "stdout",
     "output_type": "stream",
     "text": [
      "Model: \"sequential_2\"\n",
      "_________________________________________________________________\n",
      " Layer (type)                Output Shape              Param #   \n",
      "=================================================================\n",
      " conv1d (Conv1D)             (None, 30, 8)             32        \n",
      "                                                                 \n",
      " max_pooling1d (MaxPooling1D  (None, 15, 8)            0         \n",
      " )                                                               \n",
      "                                                                 \n",
      " conv1d_1 (Conv1D)           (None, 15, 16)            912       \n",
      "                                                                 \n",
      " max_pooling1d_1 (MaxPooling  (None, 7, 16)            0         \n",
      " 1D)                                                             \n",
      "                                                                 \n",
      " flatten_1 (Flatten)         (None, 112)               0         \n",
      "                                                                 \n",
      " dense_6 (Dense)             (None, 30)                3390      \n",
      "                                                                 \n",
      " dense_7 (Dense)             (None, 1)                 31        \n",
      "                                                                 \n",
      "=================================================================\n",
      "Total params: 4,365\n",
      "Trainable params: 4,365\n",
      "Non-trainable params: 0\n",
      "_________________________________________________________________\n"
     ]
    }
   ],
   "source": [
    "cnn_model.summary()"
   ]
  },
  {
   "cell_type": "code",
   "execution_count": 28,
   "metadata": {
    "tags": []
   },
   "outputs": [],
   "source": [
    "y_train = np.round(model.predict(X_train))\n",
    "y_test = np.round(model.predict(X_test))"
   ]
  },
  {
   "cell_type": "code",
   "execution_count": 29,
   "metadata": {
    "scrolled": true,
    "tags": []
   },
   "outputs": [
    {
     "name": "stdout",
     "output_type": "stream",
     "text": [
      "Training Set: \n",
      "              precision    recall  f1-score   support\n",
      "\n",
      "   Malignant       0.89      0.91      0.90       119\n",
      "      Benign       0.94      0.93      0.94       199\n",
      "\n",
      "    accuracy                           0.92       318\n",
      "   macro avg       0.91      0.92      0.92       318\n",
      "weighted avg       0.92      0.92      0.92       318\n",
      " /n\n",
      "Test Set: \n",
      "              precision    recall  f1-score   support\n",
      "\n",
      "   Malignant       0.82      0.88      0.85        42\n",
      "      Benign       0.93      0.89      0.91        72\n",
      "\n",
      "    accuracy                           0.89       114\n",
      "   macro avg       0.87      0.88      0.88       114\n",
      "weighted avg       0.89      0.89      0.89       114\n",
      "\n"
     ]
    }
   ],
   "source": [
    "print('Training Set: ')\n",
    "print(classification_report(t_train, y_train,target_names=['Malignant', 'Benign']),'/n')\n",
    "print('Test Set: ')\n",
    "print(classification_report(t_test, y_test,target_names=['Malignant', 'Benign']))"
   ]
  },
  {
   "cell_type": "markdown",
   "metadata": {},
   "source": [
    "Both models perform identically but the CNN has about half of the number of parameters. We would prefer the CNN model."
   ]
  },
  {
   "cell_type": "markdown",
   "metadata": {},
   "source": [
    "---"
   ]
  },
  {
   "cell_type": "markdown",
   "metadata": {},
   "source": [
    "# On-Time (5 points)"
   ]
  },
  {
   "cell_type": "markdown",
   "metadata": {},
   "source": [
    "Submit your assignment before the deadline."
   ]
  },
  {
   "cell_type": "markdown",
   "metadata": {},
   "source": [
    "___\n",
    "\n",
    "# Submit Your Solution\n",
    "\n",
    "Confirm that you've successfully completed the assignment.\n",
    "\n",
    "Along with the Notebook, include a PDF of the notebook with your solutions.\n",
    "\n",
    "```add``` and ```commit``` the final version of your work, and ```push``` your code to your GitHub repository.\n",
    "\n",
    "Submit the URL of your GitHub Repository as your assignment submission on Canvas.\n",
    "\n",
    "___"
   ]
  }
 ],
 "metadata": {
  "kernelspec": {
   "display_name": "Python 3 (ipykernel)",
   "language": "python",
   "name": "python3"
  },
  "language_info": {
   "codemirror_mode": {
    "name": "ipython",
    "version": 3
   },
   "file_extension": ".py",
   "mimetype": "text/x-python",
   "name": "python",
   "nbconvert_exporter": "python",
   "pygments_lexer": "ipython3",
   "version": "3.10.8"
  },
  "latex_envs": {
   "LaTeX_envs_menu_present": true,
   "autoclose": false,
   "autocomplete": true,
   "bibliofile": "biblio.bib",
   "cite_by": "apalike",
   "current_citInitial": 1,
   "eqLabelWithNumbers": true,
   "eqNumInitial": 1,
   "hotkeys": {
    "equation": "Ctrl-E",
    "itemize": "Ctrl-I"
   },
   "labels_anchors": false,
   "latex_user_defs": false,
   "report_style_numbering": false,
   "user_envs_cfg": false
  },
  "varInspector": {
   "cols": {
    "lenName": 16,
    "lenType": 16,
    "lenVar": 40
   },
   "kernels_config": {
    "python": {
     "delete_cmd_postfix": "",
     "delete_cmd_prefix": "del ",
     "library": "var_list.py",
     "varRefreshCmd": "print(var_dic_list())"
    },
    "r": {
     "delete_cmd_postfix": ") ",
     "delete_cmd_prefix": "rm(",
     "library": "var_list.r",
     "varRefreshCmd": "cat(var_dic_list()) "
    }
   },
   "types_to_exclude": [
    "module",
    "function",
    "builtin_function_or_method",
    "instance",
    "_Feature"
   ],
   "window_display": false
  }
 },
 "nbformat": 4,
 "nbformat_minor": 4
}
